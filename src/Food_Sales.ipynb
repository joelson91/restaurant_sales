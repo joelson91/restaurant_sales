{
 "cells": [
  {
   "cell_type": "markdown",
   "id": "10d4eed5",
   "metadata": {
    "id": "IWkU9dUnH_US",
    "papermill": {
     "duration": 0.008015,
     "end_time": "2025-09-16T12:49:25.218013",
     "exception": false,
     "start_time": "2025-09-16T12:49:25.209998",
     "status": "completed"
    },
    "tags": []
   },
   "source": [
    "# Restaurant Sales EDA"
   ]
  },
  {
   "cell_type": "markdown",
   "id": "635ba143",
   "metadata": {
    "id": "VT7dBqd3KrZN",
    "papermill": {
     "duration": 0.006717,
     "end_time": "2025-09-16T12:49:25.232822",
     "exception": false,
     "start_time": "2025-09-16T12:49:25.226105",
     "status": "completed"
    },
    "tags": []
   },
   "source": [
    "## Introduction"
   ]
  },
  {
   "cell_type": "markdown",
   "id": "58cf3f4b",
   "metadata": {
    "id": "vaHQsE2BKufX",
    "papermill": {
     "duration": 0.006502,
     "end_time": "2025-09-16T12:49:25.246115",
     "exception": false,
     "start_time": "2025-09-16T12:49:25.239613",
     "status": "completed"
    },
    "tags": []
   },
   "source": [
    "### About the Dataset\n",
    "\n",
    "This dataset contains data from approximately 1000 orders from a single restaurant. It includes granular information such as `item_name`, `item_type`, `quantity` sold, `transaction_amount`, `date` and `time_of_sale`, the `transaction_type` (e.g., dine-in, takeaway), and the `received_by` staff member. This rich dataset provides a foundation for understanding the restaurant's operational dynamics and sales performance over time."
   ]
  },
  {
   "cell_type": "markdown",
   "id": "61be085b",
   "metadata": {
    "id": "LWMdhW75Ks9S",
    "papermill": {
     "duration": 0.006458,
     "end_time": "2025-09-16T12:49:25.260202",
     "exception": false,
     "start_time": "2025-09-16T12:49:25.253744",
     "status": "completed"
    },
    "tags": []
   },
   "source": [
    "### Analysis objectives\n",
    "\n",
    "- View variables with greater impact on demand and revenue\n",
    "- View days and times with greater demand\n"
   ]
  },
  {
   "cell_type": "markdown",
   "id": "10547507",
   "metadata": {
    "id": "Cg3aWNaHIN34",
    "papermill": {
     "duration": 0.006496,
     "end_time": "2025-09-16T12:49:25.273466",
     "exception": false,
     "start_time": "2025-09-16T12:49:25.266970",
     "status": "completed"
    },
    "tags": []
   },
   "source": [
    "## Data Preparation"
   ]
  },
  {
   "cell_type": "markdown",
   "id": "fbe30d7a",
   "metadata": {
    "id": "wbEKMn5RogNR",
    "papermill": {
     "duration": 0.006465,
     "end_time": "2025-09-16T12:49:25.286611",
     "exception": false,
     "start_time": "2025-09-16T12:49:25.280146",
     "status": "completed"
    },
    "tags": []
   },
   "source": [
    "### Data Loading"
   ]
  },
  {
   "cell_type": "code",
   "execution_count": 1,
   "id": "86c39d75",
   "metadata": {
    "execution": {
     "iopub.execute_input": "2025-09-16T12:49:25.301359Z",
     "iopub.status.busy": "2025-09-16T12:49:25.301058Z",
     "iopub.status.idle": "2025-09-16T12:49:27.172262Z",
     "shell.execute_reply": "2025-09-16T12:49:27.171483Z"
    },
    "id": "BDlcnEuPmCc_",
    "papermill": {
     "duration": 1.88078,
     "end_time": "2025-09-16T12:49:27.174133",
     "exception": false,
     "start_time": "2025-09-16T12:49:25.293353",
     "status": "completed"
    },
    "tags": []
   },
   "outputs": [],
   "source": [
    "# Importing the Pandas library\n",
    "import pandas as pd"
   ]
  },
  {
   "cell_type": "code",
   "execution_count": 2,
   "id": "55905274",
   "metadata": {
    "execution": {
     "iopub.execute_input": "2025-09-16T12:49:27.189590Z",
     "iopub.status.busy": "2025-09-16T12:49:27.189187Z",
     "iopub.status.idle": "2025-09-16T12:49:27.214955Z",
     "shell.execute_reply": "2025-09-16T12:49:27.213967Z"
    },
    "id": "0J7WZ3tNmPD8",
    "papermill": {
     "duration": 0.035442,
     "end_time": "2025-09-16T12:49:27.216628",
     "exception": false,
     "start_time": "2025-09-16T12:49:27.181186",
     "status": "completed"
    },
    "tags": []
   },
   "outputs": [],
   "source": [
    "# Loading the dataset\n",
    "df = pd.read_csv(\"/kaggle/input/fast-food-sales-report/Balaji Fast Food Sales.csv\")"
   ]
  },
  {
   "cell_type": "code",
   "execution_count": 3,
   "id": "e614c158",
   "metadata": {
    "execution": {
     "iopub.execute_input": "2025-09-16T12:49:27.231497Z",
     "iopub.status.busy": "2025-09-16T12:49:27.231186Z",
     "iopub.status.idle": "2025-09-16T12:49:27.254440Z",
     "shell.execute_reply": "2025-09-16T12:49:27.253700Z"
    },
    "id": "kII5fTcFogOT",
    "outputId": "ecd96676-6e76-4f24-8f37-5686563ee554",
    "papermill": {
     "duration": 0.032395,
     "end_time": "2025-09-16T12:49:27.256104",
     "exception": false,
     "start_time": "2025-09-16T12:49:27.223709",
     "status": "completed"
    },
    "tags": []
   },
   "outputs": [
    {
     "data": {
      "text/html": [
       "<div>\n",
       "<style scoped>\n",
       "    .dataframe tbody tr th:only-of-type {\n",
       "        vertical-align: middle;\n",
       "    }\n",
       "\n",
       "    .dataframe tbody tr th {\n",
       "        vertical-align: top;\n",
       "    }\n",
       "\n",
       "    .dataframe thead th {\n",
       "        text-align: right;\n",
       "    }\n",
       "</style>\n",
       "<table border=\"1\" class=\"dataframe\">\n",
       "  <thead>\n",
       "    <tr style=\"text-align: right;\">\n",
       "      <th></th>\n",
       "      <th>order_id</th>\n",
       "      <th>date</th>\n",
       "      <th>item_name</th>\n",
       "      <th>item_type</th>\n",
       "      <th>item_price</th>\n",
       "      <th>quantity</th>\n",
       "      <th>transaction_amount</th>\n",
       "      <th>transaction_type</th>\n",
       "      <th>received_by</th>\n",
       "      <th>time_of_sale</th>\n",
       "    </tr>\n",
       "  </thead>\n",
       "  <tbody>\n",
       "    <tr>\n",
       "      <th>0</th>\n",
       "      <td>1</td>\n",
       "      <td>07-03-2022</td>\n",
       "      <td>Aalopuri</td>\n",
       "      <td>Fastfood</td>\n",
       "      <td>20</td>\n",
       "      <td>13</td>\n",
       "      <td>260</td>\n",
       "      <td>NaN</td>\n",
       "      <td>Mr.</td>\n",
       "      <td>Night</td>\n",
       "    </tr>\n",
       "    <tr>\n",
       "      <th>1</th>\n",
       "      <td>2</td>\n",
       "      <td>8/23/2022</td>\n",
       "      <td>Vadapav</td>\n",
       "      <td>Fastfood</td>\n",
       "      <td>20</td>\n",
       "      <td>15</td>\n",
       "      <td>300</td>\n",
       "      <td>Cash</td>\n",
       "      <td>Mr.</td>\n",
       "      <td>Afternoon</td>\n",
       "    </tr>\n",
       "    <tr>\n",
       "      <th>2</th>\n",
       "      <td>3</td>\n",
       "      <td>11/20/2022</td>\n",
       "      <td>Vadapav</td>\n",
       "      <td>Fastfood</td>\n",
       "      <td>20</td>\n",
       "      <td>1</td>\n",
       "      <td>20</td>\n",
       "      <td>Cash</td>\n",
       "      <td>Mr.</td>\n",
       "      <td>Afternoon</td>\n",
       "    </tr>\n",
       "    <tr>\n",
       "      <th>3</th>\n",
       "      <td>4</td>\n",
       "      <td>02-03-2023</td>\n",
       "      <td>Sugarcane juice</td>\n",
       "      <td>Beverages</td>\n",
       "      <td>25</td>\n",
       "      <td>6</td>\n",
       "      <td>150</td>\n",
       "      <td>Online</td>\n",
       "      <td>Mr.</td>\n",
       "      <td>Night</td>\n",
       "    </tr>\n",
       "    <tr>\n",
       "      <th>4</th>\n",
       "      <td>5</td>\n",
       "      <td>10-02-2022</td>\n",
       "      <td>Sugarcane juice</td>\n",
       "      <td>Beverages</td>\n",
       "      <td>25</td>\n",
       "      <td>8</td>\n",
       "      <td>200</td>\n",
       "      <td>Online</td>\n",
       "      <td>Mr.</td>\n",
       "      <td>Evening</td>\n",
       "    </tr>\n",
       "  </tbody>\n",
       "</table>\n",
       "</div>"
      ],
      "text/plain": [
       "   order_id        date        item_name  item_type  item_price  quantity  \\\n",
       "0         1  07-03-2022         Aalopuri   Fastfood          20        13   \n",
       "1         2   8/23/2022          Vadapav   Fastfood          20        15   \n",
       "2         3  11/20/2022          Vadapav   Fastfood          20         1   \n",
       "3         4  02-03-2023  Sugarcane juice  Beverages          25         6   \n",
       "4         5  10-02-2022  Sugarcane juice  Beverages          25         8   \n",
       "\n",
       "   transaction_amount transaction_type received_by time_of_sale  \n",
       "0                 260              NaN         Mr.        Night  \n",
       "1                 300             Cash         Mr.    Afternoon  \n",
       "2                  20             Cash         Mr.    Afternoon  \n",
       "3                 150           Online         Mr.        Night  \n",
       "4                 200           Online         Mr.      Evening  "
      ]
     },
     "execution_count": 3,
     "metadata": {},
     "output_type": "execute_result"
    }
   ],
   "source": [
    "# Previewing the data\n",
    "df.head()"
   ]
  },
  {
   "cell_type": "markdown",
   "id": "49c08965",
   "metadata": {
    "id": "I4txuYamPe0m",
    "papermill": {
     "duration": 0.006845,
     "end_time": "2025-09-16T12:49:27.270618",
     "exception": false,
     "start_time": "2025-09-16T12:49:27.263773",
     "status": "completed"
    },
    "tags": []
   },
   "source": [
    "### Data Cleaning"
   ]
  },
  {
   "cell_type": "code",
   "execution_count": 4,
   "id": "631fe813",
   "metadata": {
    "execution": {
     "iopub.execute_input": "2025-09-16T12:49:27.285516Z",
     "iopub.status.busy": "2025-09-16T12:49:27.285205Z",
     "iopub.status.idle": "2025-09-16T12:49:27.310841Z",
     "shell.execute_reply": "2025-09-16T12:49:27.309580Z"
    },
    "id": "0Po38TRjooR5",
    "outputId": "3a2e8167-aff2-4fc4-9617-f56f20724995",
    "papermill": {
     "duration": 0.034977,
     "end_time": "2025-09-16T12:49:27.312368",
     "exception": false,
     "start_time": "2025-09-16T12:49:27.277391",
     "status": "completed"
    },
    "tags": []
   },
   "outputs": [
    {
     "name": "stdout",
     "output_type": "stream",
     "text": [
      "<class 'pandas.core.frame.DataFrame'>\n",
      "RangeIndex: 1000 entries, 0 to 999\n",
      "Data columns (total 10 columns):\n",
      " #   Column              Non-Null Count  Dtype \n",
      "---  ------              --------------  ----- \n",
      " 0   order_id            1000 non-null   int64 \n",
      " 1   date                1000 non-null   object\n",
      " 2   item_name           1000 non-null   object\n",
      " 3   item_type           1000 non-null   object\n",
      " 4   item_price          1000 non-null   int64 \n",
      " 5   quantity            1000 non-null   int64 \n",
      " 6   transaction_amount  1000 non-null   int64 \n",
      " 7   transaction_type    893 non-null    object\n",
      " 8   received_by         1000 non-null   object\n",
      " 9   time_of_sale        1000 non-null   object\n",
      "dtypes: int64(4), object(6)\n",
      "memory usage: 78.3+ KB\n"
     ]
    }
   ],
   "source": [
    "# Information about the dataset\n",
    "df.info()"
   ]
  },
  {
   "cell_type": "markdown",
   "id": "c654c24f",
   "metadata": {
    "papermill": {
     "duration": 0.00679,
     "end_time": "2025-09-16T12:49:27.326449",
     "exception": false,
     "start_time": "2025-09-16T12:49:27.319659",
     "status": "completed"
    },
    "tags": []
   },
   "source": [
    "**Initial observations**:\n",
    "- There are null values in the `transaction_type` column, representing more than 10% of the data.\n",
    "- Categorical columns are in `object` format.\n",
    "- The `date` column has inconsistent data regarding the date format.\n",
    "- It is important for the analysis to extract the year, month, and weekday from the `date` column."
   ]
  },
  {
   "cell_type": "code",
   "execution_count": 5,
   "id": "82b75eb5",
   "metadata": {
    "execution": {
     "iopub.execute_input": "2025-09-16T12:49:27.341572Z",
     "iopub.status.busy": "2025-09-16T12:49:27.341299Z",
     "iopub.status.idle": "2025-09-16T12:49:27.346420Z",
     "shell.execute_reply": "2025-09-16T12:49:27.345637Z"
    },
    "id": "MIkOYIG9oqAI",
    "papermill": {
     "duration": 0.014396,
     "end_time": "2025-09-16T12:49:27.347792",
     "exception": false,
     "start_time": "2025-09-16T12:49:27.333396",
     "status": "completed"
    },
    "tags": []
   },
   "outputs": [],
   "source": [
    "# Replacing null values with the 'Unknown' category\n",
    "df[\"transaction_type\"] = df[\"transaction_type\"].fillna(\"Unknown\")"
   ]
  },
  {
   "cell_type": "code",
   "execution_count": 6,
   "id": "fc1d6a05",
   "metadata": {
    "execution": {
     "iopub.execute_input": "2025-09-16T12:49:27.363097Z",
     "iopub.status.busy": "2025-09-16T12:49:27.362784Z",
     "iopub.status.idle": "2025-09-16T12:49:27.375428Z",
     "shell.execute_reply": "2025-09-16T12:49:27.374497Z"
    },
    "id": "sEzHqm18laS3",
    "papermill": {
     "duration": 0.021947,
     "end_time": "2025-09-16T12:49:27.376902",
     "exception": false,
     "start_time": "2025-09-16T12:49:27.354955",
     "status": "completed"
    },
    "tags": []
   },
   "outputs": [],
   "source": [
    "# Adjusting categorical variables\n",
    "category_columns = [\n",
    "    \"item_name\",\n",
    "    \"item_type\",\n",
    "    \"transaction_type\",\n",
    "    \"received_by\",\n",
    "    \"time_of_sale\",\n",
    "]\n",
    "df[category_columns] = df[category_columns].astype(\"category\")"
   ]
  },
  {
   "cell_type": "code",
   "execution_count": 7,
   "id": "a155d2b6",
   "metadata": {
    "execution": {
     "iopub.execute_input": "2025-09-16T12:49:27.392903Z",
     "iopub.status.busy": "2025-09-16T12:49:27.392342Z",
     "iopub.status.idle": "2025-09-16T12:49:27.405507Z",
     "shell.execute_reply": "2025-09-16T12:49:27.404745Z"
    },
    "id": "_LO4ck0emVV6",
    "papermill": {
     "duration": 0.022795,
     "end_time": "2025-09-16T12:49:27.407005",
     "exception": false,
     "start_time": "2025-09-16T12:49:27.384210",
     "status": "completed"
    },
    "tags": []
   },
   "outputs": [],
   "source": [
    "# Adjusting the date variable to datetime\n",
    "df[\"date\"] = df[\"date\"].str.replace(\"/\", \"-\", regex=False)\n",
    "df[\"date\"] = pd.to_datetime(df[\"date\"], format=\"%m-%d-%Y\")"
   ]
  },
  {
   "cell_type": "code",
   "execution_count": 8,
   "id": "9803acb2",
   "metadata": {
    "execution": {
     "iopub.execute_input": "2025-09-16T12:49:27.487077Z",
     "iopub.status.busy": "2025-09-16T12:49:27.486775Z",
     "iopub.status.idle": "2025-09-16T12:49:27.494969Z",
     "shell.execute_reply": "2025-09-16T12:49:27.494110Z"
    },
    "papermill": {
     "duration": 0.081998,
     "end_time": "2025-09-16T12:49:27.496418",
     "exception": false,
     "start_time": "2025-09-16T12:49:27.414420",
     "status": "completed"
    },
    "tags": []
   },
   "outputs": [],
   "source": [
    "# Extracting year, month, and weekday from date\n",
    "df[\"year\"] = df[\"date\"].dt.year\n",
    "df[\"month\"] = df[\"date\"].dt.month_name()\n",
    "df[\"weekday\"] = df[\"date\"].dt.day_name()"
   ]
  },
  {
   "cell_type": "code",
   "execution_count": 9,
   "id": "fdcae136",
   "metadata": {
    "execution": {
     "iopub.execute_input": "2025-09-16T12:49:27.512301Z",
     "iopub.status.busy": "2025-09-16T12:49:27.512003Z",
     "iopub.status.idle": "2025-09-16T12:49:27.525725Z",
     "shell.execute_reply": "2025-09-16T12:49:27.524852Z"
    },
    "papermill": {
     "duration": 0.023449,
     "end_time": "2025-09-16T12:49:27.527106",
     "exception": false,
     "start_time": "2025-09-16T12:49:27.503657",
     "status": "completed"
    },
    "tags": []
   },
   "outputs": [
    {
     "data": {
      "text/html": [
       "<div>\n",
       "<style scoped>\n",
       "    .dataframe tbody tr th:only-of-type {\n",
       "        vertical-align: middle;\n",
       "    }\n",
       "\n",
       "    .dataframe tbody tr th {\n",
       "        vertical-align: top;\n",
       "    }\n",
       "\n",
       "    .dataframe thead th {\n",
       "        text-align: right;\n",
       "    }\n",
       "</style>\n",
       "<table border=\"1\" class=\"dataframe\">\n",
       "  <thead>\n",
       "    <tr style=\"text-align: right;\">\n",
       "      <th></th>\n",
       "      <th>order_id</th>\n",
       "      <th>date</th>\n",
       "      <th>item_name</th>\n",
       "      <th>item_type</th>\n",
       "      <th>item_price</th>\n",
       "      <th>quantity</th>\n",
       "      <th>transaction_amount</th>\n",
       "      <th>transaction_type</th>\n",
       "      <th>received_by</th>\n",
       "      <th>time_of_sale</th>\n",
       "      <th>year</th>\n",
       "      <th>month</th>\n",
       "      <th>weekday</th>\n",
       "    </tr>\n",
       "  </thead>\n",
       "  <tbody>\n",
       "    <tr>\n",
       "      <th>0</th>\n",
       "      <td>1</td>\n",
       "      <td>2022-07-03</td>\n",
       "      <td>Aalopuri</td>\n",
       "      <td>Fastfood</td>\n",
       "      <td>20</td>\n",
       "      <td>13</td>\n",
       "      <td>260</td>\n",
       "      <td>Unknown</td>\n",
       "      <td>Mr.</td>\n",
       "      <td>Night</td>\n",
       "      <td>2022</td>\n",
       "      <td>July</td>\n",
       "      <td>Sunday</td>\n",
       "    </tr>\n",
       "    <tr>\n",
       "      <th>1</th>\n",
       "      <td>2</td>\n",
       "      <td>2022-08-23</td>\n",
       "      <td>Vadapav</td>\n",
       "      <td>Fastfood</td>\n",
       "      <td>20</td>\n",
       "      <td>15</td>\n",
       "      <td>300</td>\n",
       "      <td>Cash</td>\n",
       "      <td>Mr.</td>\n",
       "      <td>Afternoon</td>\n",
       "      <td>2022</td>\n",
       "      <td>August</td>\n",
       "      <td>Tuesday</td>\n",
       "    </tr>\n",
       "    <tr>\n",
       "      <th>2</th>\n",
       "      <td>3</td>\n",
       "      <td>2022-11-20</td>\n",
       "      <td>Vadapav</td>\n",
       "      <td>Fastfood</td>\n",
       "      <td>20</td>\n",
       "      <td>1</td>\n",
       "      <td>20</td>\n",
       "      <td>Cash</td>\n",
       "      <td>Mr.</td>\n",
       "      <td>Afternoon</td>\n",
       "      <td>2022</td>\n",
       "      <td>November</td>\n",
       "      <td>Sunday</td>\n",
       "    </tr>\n",
       "    <tr>\n",
       "      <th>3</th>\n",
       "      <td>4</td>\n",
       "      <td>2023-02-03</td>\n",
       "      <td>Sugarcane juice</td>\n",
       "      <td>Beverages</td>\n",
       "      <td>25</td>\n",
       "      <td>6</td>\n",
       "      <td>150</td>\n",
       "      <td>Online</td>\n",
       "      <td>Mr.</td>\n",
       "      <td>Night</td>\n",
       "      <td>2023</td>\n",
       "      <td>February</td>\n",
       "      <td>Friday</td>\n",
       "    </tr>\n",
       "    <tr>\n",
       "      <th>4</th>\n",
       "      <td>5</td>\n",
       "      <td>2022-10-02</td>\n",
       "      <td>Sugarcane juice</td>\n",
       "      <td>Beverages</td>\n",
       "      <td>25</td>\n",
       "      <td>8</td>\n",
       "      <td>200</td>\n",
       "      <td>Online</td>\n",
       "      <td>Mr.</td>\n",
       "      <td>Evening</td>\n",
       "      <td>2022</td>\n",
       "      <td>October</td>\n",
       "      <td>Sunday</td>\n",
       "    </tr>\n",
       "  </tbody>\n",
       "</table>\n",
       "</div>"
      ],
      "text/plain": [
       "   order_id       date        item_name  item_type  item_price  quantity  \\\n",
       "0         1 2022-07-03         Aalopuri   Fastfood          20        13   \n",
       "1         2 2022-08-23          Vadapav   Fastfood          20        15   \n",
       "2         3 2022-11-20          Vadapav   Fastfood          20         1   \n",
       "3         4 2023-02-03  Sugarcane juice  Beverages          25         6   \n",
       "4         5 2022-10-02  Sugarcane juice  Beverages          25         8   \n",
       "\n",
       "   transaction_amount transaction_type received_by time_of_sale  year  \\\n",
       "0                 260          Unknown         Mr.        Night  2022   \n",
       "1                 300             Cash         Mr.    Afternoon  2022   \n",
       "2                  20             Cash         Mr.    Afternoon  2022   \n",
       "3                 150           Online         Mr.        Night  2023   \n",
       "4                 200           Online         Mr.      Evening  2022   \n",
       "\n",
       "      month  weekday  \n",
       "0      July   Sunday  \n",
       "1    August  Tuesday  \n",
       "2  November   Sunday  \n",
       "3  February   Friday  \n",
       "4   October   Sunday  "
      ]
     },
     "execution_count": 9,
     "metadata": {},
     "output_type": "execute_result"
    }
   ],
   "source": [
    "# Final result\n",
    "df.head()"
   ]
  },
  {
   "cell_type": "markdown",
   "id": "ceebbca0",
   "metadata": {
    "papermill": {
     "duration": 0.007241,
     "end_time": "2025-09-16T12:49:27.541794",
     "exception": false,
     "start_time": "2025-09-16T12:49:27.534553",
     "status": "completed"
    },
    "tags": []
   },
   "source": [
    "## Sales Analysis"
   ]
  },
  {
   "cell_type": "markdown",
   "id": "36139966",
   "metadata": {
    "papermill": {
     "duration": 0.007224,
     "end_time": "2025-09-16T12:49:27.556597",
     "exception": false,
     "start_time": "2025-09-16T12:49:27.549373",
     "status": "completed"
    },
    "tags": []
   },
   "source": [
    "### Performance by Category"
   ]
  },
  {
   "cell_type": "markdown",
   "id": "b40b9310",
   "metadata": {
    "papermill": {
     "duration": 0.007189,
     "end_time": "2025-09-16T12:49:27.571164",
     "exception": false,
     "start_time": "2025-09-16T12:49:27.563975",
     "status": "completed"
    },
    "tags": []
   },
   "source": [
    "Table of quantity and revenue by category."
   ]
  },
  {
   "cell_type": "code",
   "execution_count": 10,
   "id": "f37a1866",
   "metadata": {
    "execution": {
     "iopub.execute_input": "2025-09-16T12:49:27.587177Z",
     "iopub.status.busy": "2025-09-16T12:49:27.586879Z",
     "iopub.status.idle": "2025-09-16T12:49:27.600285Z",
     "shell.execute_reply": "2025-09-16T12:49:27.599542Z"
    },
    "jupyter": {
     "source_hidden": true
    },
    "papermill": {
     "duration": 0.023135,
     "end_time": "2025-09-16T12:49:27.601646",
     "exception": false,
     "start_time": "2025-09-16T12:49:27.578511",
     "status": "completed"
    },
    "tags": []
   },
   "outputs": [
    {
     "data": {
      "text/html": [
       "<div>\n",
       "<style scoped>\n",
       "    .dataframe tbody tr th:only-of-type {\n",
       "        vertical-align: middle;\n",
       "    }\n",
       "\n",
       "    .dataframe tbody tr th {\n",
       "        vertical-align: top;\n",
       "    }\n",
       "\n",
       "    .dataframe thead th {\n",
       "        text-align: right;\n",
       "    }\n",
       "</style>\n",
       "<table border=\"1\" class=\"dataframe\">\n",
       "  <thead>\n",
       "    <tr style=\"text-align: right;\">\n",
       "      <th></th>\n",
       "      <th>quantity</th>\n",
       "      <th>transaction_amount</th>\n",
       "    </tr>\n",
       "    <tr>\n",
       "      <th>item_type</th>\n",
       "      <th></th>\n",
       "      <th></th>\n",
       "    </tr>\n",
       "  </thead>\n",
       "  <tbody>\n",
       "    <tr>\n",
       "      <th>Beverages</th>\n",
       "      <td>2639</td>\n",
       "      <td>86390</td>\n",
       "    </tr>\n",
       "    <tr>\n",
       "      <th>Fastfood</th>\n",
       "      <td>5523</td>\n",
       "      <td>188840</td>\n",
       "    </tr>\n",
       "  </tbody>\n",
       "</table>\n",
       "</div>"
      ],
      "text/plain": [
       "           quantity  transaction_amount\n",
       "item_type                              \n",
       "Beverages      2639               86390\n",
       "Fastfood       5523              188840"
      ]
     },
     "execution_count": 10,
     "metadata": {},
     "output_type": "execute_result"
    }
   ],
   "source": [
    "# Quantity and revenue by category\n",
    "df_category_orders = df.groupby(\"item_type\", observed=True)[[\"quantity\", \"transaction_amount\"]].sum()\n",
    "df_category_orders"
   ]
  },
  {
   "cell_type": "markdown",
   "id": "59517b2a",
   "metadata": {
    "papermill": {
     "duration": 0.007748,
     "end_time": "2025-09-16T12:49:27.617019",
     "exception": false,
     "start_time": "2025-09-16T12:49:27.609271",
     "status": "completed"
    },
    "tags": []
   },
   "source": [
    "Graph representing the percentage of quantity and revenue by category."
   ]
  },
  {
   "cell_type": "code",
   "execution_count": 11,
   "id": "e2f85e82",
   "metadata": {
    "execution": {
     "iopub.execute_input": "2025-09-16T12:49:27.633736Z",
     "iopub.status.busy": "2025-09-16T12:49:27.633390Z",
     "iopub.status.idle": "2025-09-16T12:49:27.950714Z",
     "shell.execute_reply": "2025-09-16T12:49:27.949831Z"
    },
    "jupyter": {
     "source_hidden": true
    },
    "papermill": {
     "duration": 0.32761,
     "end_time": "2025-09-16T12:49:27.952355",
     "exception": false,
     "start_time": "2025-09-16T12:49:27.624745",
     "status": "completed"
    },
    "tags": []
   },
   "outputs": [
    {
     "data": {
      "image/png": "[encoded data removed]",
      "text/plain": [
       "<Figure size 640x480 with 2 Axes>"
      ]
     },
     "metadata": {},
     "output_type": "display_data"
    }
   ],
   "source": [
    "# Graph of quantity and revenue by category\n",
    "df_category_orders.plot(\n",
    "    title=[\"Quantity\", \"Revenue\"],\n",
    "    kind=\"pie\",\n",
    "    subplots=True,\n",
    "    autopct=\"%1.1f%%\",\n",
    "    startangle=90,\n",
    "    ylabel=\"\",\n",
    "    legend=False,\n",
    ");"
   ]
  },
  {
   "cell_type": "markdown",
   "id": "54185b9c",
   "metadata": {
    "papermill": {
     "duration": 0.007765,
     "end_time": "2025-09-16T12:49:27.969978",
     "exception": false,
     "start_time": "2025-09-16T12:49:27.962213",
     "status": "completed"
    },
    "tags": []
   },
   "source": [
    "It is concluded that **Fastfood** is the category with the greatest impact on quantity and revenue."
   ]
  },
  {
   "cell_type": "markdown",
   "id": "2d8cd2d3",
   "metadata": {
    "papermill": {
     "duration": 0.007663,
     "end_time": "2025-09-16T12:49:27.985550",
     "exception": false,
     "start_time": "2025-09-16T12:49:27.977887",
     "status": "completed"
    },
    "tags": []
   },
   "source": [
    "### Performance by Item"
   ]
  },
  {
   "cell_type": "markdown",
   "id": "93f22194",
   "metadata": {
    "papermill": {
     "duration": 0.007451,
     "end_time": "2025-09-16T12:49:28.000751",
     "exception": false,
     "start_time": "2025-09-16T12:49:27.993300",
     "status": "completed"
    },
    "tags": []
   },
   "source": [
    "Table of quantity and revenue by item."
   ]
  },
  {
   "cell_type": "code",
   "execution_count": 12,
   "id": "489ebad5",
   "metadata": {
    "execution": {
     "iopub.execute_input": "2025-09-16T12:49:28.017617Z",
     "iopub.status.busy": "2025-09-16T12:49:28.017299Z",
     "iopub.status.idle": "2025-09-16T12:49:28.028601Z",
     "shell.execute_reply": "2025-09-16T12:49:28.027854Z"
    },
    "jupyter": {
     "source_hidden": true
    },
    "papermill": {
     "duration": 0.021711,
     "end_time": "2025-09-16T12:49:28.030165",
     "exception": false,
     "start_time": "2025-09-16T12:49:28.008454",
     "status": "completed"
    },
    "tags": []
   },
   "outputs": [
    {
     "data": {
      "text/html": [
       "<div>\n",
       "<style scoped>\n",
       "    .dataframe tbody tr th:only-of-type {\n",
       "        vertical-align: middle;\n",
       "    }\n",
       "\n",
       "    .dataframe tbody tr th {\n",
       "        vertical-align: top;\n",
       "    }\n",
       "\n",
       "    .dataframe thead th {\n",
       "        text-align: right;\n",
       "    }\n",
       "</style>\n",
       "<table border=\"1\" class=\"dataframe\">\n",
       "  <thead>\n",
       "    <tr style=\"text-align: right;\">\n",
       "      <th></th>\n",
       "      <th>quantity</th>\n",
       "      <th>transaction_amount</th>\n",
       "    </tr>\n",
       "    <tr>\n",
       "      <th>item_name</th>\n",
       "      <th></th>\n",
       "      <th></th>\n",
       "    </tr>\n",
       "  </thead>\n",
       "  <tbody>\n",
       "    <tr>\n",
       "      <th>Aalopuri</th>\n",
       "      <td>1044</td>\n",
       "      <td>20880</td>\n",
       "    </tr>\n",
       "    <tr>\n",
       "      <th>Cold coffee</th>\n",
       "      <td>1361</td>\n",
       "      <td>54440</td>\n",
       "    </tr>\n",
       "    <tr>\n",
       "      <th>Frankie</th>\n",
       "      <td>1150</td>\n",
       "      <td>57500</td>\n",
       "    </tr>\n",
       "    <tr>\n",
       "      <th>Panipuri</th>\n",
       "      <td>1226</td>\n",
       "      <td>24520</td>\n",
       "    </tr>\n",
       "    <tr>\n",
       "      <th>Sandwich</th>\n",
       "      <td>1097</td>\n",
       "      <td>65820</td>\n",
       "    </tr>\n",
       "    <tr>\n",
       "      <th>Sugarcane juice</th>\n",
       "      <td>1278</td>\n",
       "      <td>31950</td>\n",
       "    </tr>\n",
       "    <tr>\n",
       "      <th>Vadapav</th>\n",
       "      <td>1006</td>\n",
       "      <td>20120</td>\n",
       "    </tr>\n",
       "  </tbody>\n",
       "</table>\n",
       "</div>"
      ],
      "text/plain": [
       "                 quantity  transaction_amount\n",
       "item_name                                    \n",
       "Aalopuri             1044               20880\n",
       "Cold coffee          1361               54440\n",
       "Frankie              1150               57500\n",
       "Panipuri             1226               24520\n",
       "Sandwich             1097               65820\n",
       "Sugarcane juice      1278               31950\n",
       "Vadapav              1006               20120"
      ]
     },
     "execution_count": 12,
     "metadata": {},
     "output_type": "execute_result"
    }
   ],
   "source": [
    "# Quantity and revenue by item\n",
    "df_item_orders = df.groupby(\"item_name\", observed=True)[[\"quantity\", \"transaction_amount\"]].sum()\n",
    "df_item_orders"
   ]
  },
  {
   "cell_type": "markdown",
   "id": "c969f723",
   "metadata": {
    "papermill": {
     "duration": 0.007743,
     "end_time": "2025-09-16T12:49:28.046224",
     "exception": false,
     "start_time": "2025-09-16T12:49:28.038481",
     "status": "completed"
    },
    "tags": []
   },
   "source": [
    "Graph representing the percentage of quantity and revenue by item."
   ]
  },
  {
   "cell_type": "code",
   "execution_count": 13,
   "id": "34672662",
   "metadata": {
    "execution": {
     "iopub.execute_input": "2025-09-16T12:49:28.063360Z",
     "iopub.status.busy": "2025-09-16T12:49:28.063072Z",
     "iopub.status.idle": "2025-09-16T12:49:28.404325Z",
     "shell.execute_reply": "2025-09-16T12:49:28.403424Z"
    },
    "jupyter": {
     "source_hidden": true
    },
    "papermill": {
     "duration": 0.351645,
     "end_time": "2025-09-16T12:49:28.405829",
     "exception": false,
     "start_time": "2025-09-16T12:49:28.054184",
     "status": "completed"
    },
    "tags": []
   },
   "outputs": [
    {
     "data": {
      "image/png": "[encoded data removed]",
      "text/plain": [
       "<Figure size 600x740 with 2 Axes>"
      ]
     },
     "metadata": {},
     "output_type": "display_data"
    }
   ],
   "source": [
    "# Graph of quantity and revenue by item\n",
    "df_item_orders.sort_values(by=\"item_name\", ascending=False).plot(\n",
    "    y=[\"quantity\", \"transaction_amount\"],\n",
    "    title=[\"Quantity\", \"Revenue\"],\n",
    "    kind=\"barh\",\n",
    "    subplots=True,\n",
    "    ylabel=\"\",\n",
    "    legend=False,\n",
    "    sharey=False,\n",
    "    sharex=False,\n",
    "    figsize=(6, 7.4),\n",
    ");"
   ]
  },
  {
   "cell_type": "markdown",
   "id": "0db0c278",
   "metadata": {
    "papermill": {
     "duration": 0.008394,
     "end_time": "2025-09-16T12:49:28.423534",
     "exception": false,
     "start_time": "2025-09-16T12:49:28.415140",
     "status": "completed"
    },
    "tags": []
   },
   "source": [
    "It is concluded that **Cold coffee** has a greater impact on the quantity sold, while **Sandwich** has a greater impact on revenue."
   ]
  },
  {
   "cell_type": "markdown",
   "id": "2f043553",
   "metadata": {
    "papermill": {
     "duration": 0.008633,
     "end_time": "2025-09-16T12:49:28.440881",
     "exception": false,
     "start_time": "2025-09-16T12:49:28.432248",
     "status": "completed"
    },
    "tags": []
   },
   "source": [
    "## Salesperson Analysis"
   ]
  },
  {
   "cell_type": "markdown",
   "id": "5d2c29ef",
   "metadata": {
    "papermill": {
     "duration": 0.008348,
     "end_time": "2025-09-16T12:49:28.457841",
     "exception": false,
     "start_time": "2025-09-16T12:49:28.449493",
     "status": "completed"
    },
    "tags": []
   },
   "source": [
    "Table of orders and revenue by salesperson."
   ]
  },
  {
   "cell_type": "code",
   "execution_count": 14,
   "id": "b4309a05",
   "metadata": {
    "execution": {
     "iopub.execute_input": "2025-09-16T12:49:28.476407Z",
     "iopub.status.busy": "2025-09-16T12:49:28.476143Z",
     "iopub.status.idle": "2025-09-16T12:49:28.489632Z",
     "shell.execute_reply": "2025-09-16T12:49:28.488863Z"
    },
    "jupyter": {
     "source_hidden": true
    },
    "papermill": {
     "duration": 0.024688,
     "end_time": "2025-09-16T12:49:28.491118",
     "exception": false,
     "start_time": "2025-09-16T12:49:28.466430",
     "status": "completed"
    },
    "tags": []
   },
   "outputs": [
    {
     "data": {
      "text/html": [
       "<div>\n",
       "<style scoped>\n",
       "    .dataframe tbody tr th:only-of-type {\n",
       "        vertical-align: middle;\n",
       "    }\n",
       "\n",
       "    .dataframe tbody tr th {\n",
       "        vertical-align: top;\n",
       "    }\n",
       "\n",
       "    .dataframe thead th {\n",
       "        text-align: right;\n",
       "    }\n",
       "</style>\n",
       "<table border=\"1\" class=\"dataframe\">\n",
       "  <thead>\n",
       "    <tr style=\"text-align: right;\">\n",
       "      <th></th>\n",
       "      <th>received_by</th>\n",
       "      <th>transaction_amount</th>\n",
       "    </tr>\n",
       "    <tr>\n",
       "      <th>received_by</th>\n",
       "      <th></th>\n",
       "      <th></th>\n",
       "    </tr>\n",
       "  </thead>\n",
       "  <tbody>\n",
       "    <tr>\n",
       "      <th>Mr.</th>\n",
       "      <td>512</td>\n",
       "      <td>143440</td>\n",
       "    </tr>\n",
       "    <tr>\n",
       "      <th>Mrs.</th>\n",
       "      <td>488</td>\n",
       "      <td>131790</td>\n",
       "    </tr>\n",
       "  </tbody>\n",
       "</table>\n",
       "</div>"
      ],
      "text/plain": [
       "             received_by  transaction_amount\n",
       "received_by                                 \n",
       "Mr.                  512              143440\n",
       "Mrs.                 488              131790"
      ]
     },
     "execution_count": 14,
     "metadata": {},
     "output_type": "execute_result"
    }
   ],
   "source": [
    "# Orders and revenue by salesperson\n",
    "df_received_by = df.groupby(\"received_by\", observed=True)\n",
    "received_by_agg = df_received_by.agg(\n",
    "    {\n",
    "        \"received_by\": \"count\",\n",
    "        \"transaction_amount\": \"sum\"\n",
    "    }\n",
    ")\n",
    "\n",
    "received_by_agg"
   ]
  },
  {
   "cell_type": "markdown",
   "id": "d79069bd",
   "metadata": {
    "papermill": {
     "duration": 0.008942,
     "end_time": "2025-09-16T12:49:28.509145",
     "exception": false,
     "start_time": "2025-09-16T12:49:28.500203",
     "status": "completed"
    },
    "tags": []
   },
   "source": [
    "Graph representing the percentage of orders and revenue by salesperson."
   ]
  },
  {
   "cell_type": "code",
   "execution_count": 15,
   "id": "fd735082",
   "metadata": {
    "execution": {
     "iopub.execute_input": "2025-09-16T12:49:28.528841Z",
     "iopub.status.busy": "2025-09-16T12:49:28.528480Z",
     "iopub.status.idle": "2025-09-16T12:49:28.675932Z",
     "shell.execute_reply": "2025-09-16T12:49:28.674963Z"
    },
    "jupyter": {
     "source_hidden": true
    },
    "papermill": {
     "duration": 0.159184,
     "end_time": "2025-09-16T12:49:28.677280",
     "exception": false,
     "start_time": "2025-09-16T12:49:28.518096",
     "status": "completed"
    },
    "tags": []
   },
   "outputs": [
    {
     "data": {
      "image/png": "[encoded data removed]",
      "text/plain": [
       "<Figure size 640x480 with 2 Axes>"
      ]
     },
     "metadata": {},
     "output_type": "display_data"
    }
   ],
   "source": [
    "# Graph of orders and revenue by salesperson\n",
    "received_by_agg.plot(\n",
    "    title=[\"Orders\", \"Revenue\"],\n",
    "    kind=\"pie\",\n",
    "    subplots=True,\n",
    "    autopct=\"%1.1f%%\",\n",
    "    startangle=90,\n",
    "    ylabel=\"\",\n",
    "    legend=False,\n",
    ");"
   ]
  },
  {
   "cell_type": "markdown",
   "id": "8a6ed995",
   "metadata": {
    "papermill": {
     "duration": 0.009201,
     "end_time": "2025-09-16T12:49:28.695795",
     "exception": false,
     "start_time": "2025-09-16T12:49:28.686594",
     "status": "completed"
    },
    "tags": []
   },
   "source": [
    "It is concluded that **Mr.** received more orders and generated more revenue."
   ]
  },
  {
   "cell_type": "markdown",
   "id": "974ece1d",
   "metadata": {
    "papermill": {
     "duration": 0.009045,
     "end_time": "2025-09-16T12:49:28.714153",
     "exception": false,
     "start_time": "2025-09-16T12:49:28.705108",
     "status": "completed"
    },
    "tags": []
   },
   "source": [
    "## Time-based Analysis"
   ]
  },
  {
   "cell_type": "markdown",
   "id": "360b9e32",
   "metadata": {
    "papermill": {
     "duration": 0.009015,
     "end_time": "2025-09-16T12:49:28.732620",
     "exception": false,
     "start_time": "2025-09-16T12:49:28.723605",
     "status": "completed"
    },
    "tags": []
   },
   "source": [
    "### Annual Performance"
   ]
  },
  {
   "cell_type": "markdown",
   "id": "775413d2",
   "metadata": {
    "papermill": {
     "duration": 0.009012,
     "end_time": "2025-09-16T12:49:28.750800",
     "exception": false,
     "start_time": "2025-09-16T12:49:28.741788",
     "status": "completed"
    },
    "tags": []
   },
   "source": [
    "Count of orders by year."
   ]
  },
  {
   "cell_type": "code",
   "execution_count": 16,
   "id": "33c6ec68",
   "metadata": {
    "execution": {
     "iopub.execute_input": "2025-09-16T12:49:28.771898Z",
     "iopub.status.busy": "2025-09-16T12:49:28.771575Z",
     "iopub.status.idle": "2025-09-16T12:49:28.781123Z",
     "shell.execute_reply": "2025-09-16T12:49:28.780355Z"
    },
    "jupyter": {
     "source_hidden": true
    },
    "papermill": {
     "duration": 0.021502,
     "end_time": "2025-09-16T12:49:28.782739",
     "exception": false,
     "start_time": "2025-09-16T12:49:28.761237",
     "status": "completed"
    },
    "tags": []
   },
   "outputs": [
    {
     "data": {
      "text/html": [
       "<div>\n",
       "<style scoped>\n",
       "    .dataframe tbody tr th:only-of-type {\n",
       "        vertical-align: middle;\n",
       "    }\n",
       "\n",
       "    .dataframe tbody tr th {\n",
       "        vertical-align: top;\n",
       "    }\n",
       "\n",
       "    .dataframe thead th {\n",
       "        text-align: right;\n",
       "    }\n",
       "</style>\n",
       "<table border=\"1\" class=\"dataframe\">\n",
       "  <thead>\n",
       "    <tr style=\"text-align: right;\">\n",
       "      <th></th>\n",
       "      <th>year</th>\n",
       "      <th>order_id</th>\n",
       "    </tr>\n",
       "  </thead>\n",
       "  <tbody>\n",
       "    <tr>\n",
       "      <th>0</th>\n",
       "      <td>2022</td>\n",
       "      <td>746</td>\n",
       "    </tr>\n",
       "    <tr>\n",
       "      <th>1</th>\n",
       "      <td>2023</td>\n",
       "      <td>254</td>\n",
       "    </tr>\n",
       "  </tbody>\n",
       "</table>\n",
       "</div>"
      ],
      "text/plain": [
       "   year  order_id\n",
       "0  2022       746\n",
       "1  2023       254"
      ]
     },
     "execution_count": 16,
     "metadata": {},
     "output_type": "execute_result"
    }
   ],
   "source": [
    "# Orders by year\n",
    "df.groupby(\"year\")[\"order_id\"].count().reset_index()"
   ]
  },
  {
   "cell_type": "markdown",
   "id": "1eaf142b",
   "metadata": {
    "papermill": {
     "duration": 0.009292,
     "end_time": "2025-09-16T12:49:28.801542",
     "exception": false,
     "start_time": "2025-09-16T12:49:28.792250",
     "status": "completed"
    },
    "tags": []
   },
   "source": [
    "Quantity of items, orders, and revenue by year."
   ]
  },
  {
   "cell_type": "code",
   "execution_count": 17,
   "id": "6f5fbeb2",
   "metadata": {
    "execution": {
     "iopub.execute_input": "2025-09-16T12:49:28.822249Z",
     "iopub.status.busy": "2025-09-16T12:49:28.821947Z",
     "iopub.status.idle": "2025-09-16T12:49:28.833090Z",
     "shell.execute_reply": "2025-09-16T12:49:28.832096Z"
    },
    "jupyter": {
     "source_hidden": true
    },
    "papermill": {
     "duration": 0.023657,
     "end_time": "2025-09-16T12:49:28.834594",
     "exception": false,
     "start_time": "2025-09-16T12:49:28.810937",
     "status": "completed"
    },
    "tags": []
   },
   "outputs": [
    {
     "data": {
      "text/html": [
       "<div>\n",
       "<style scoped>\n",
       "    .dataframe tbody tr th:only-of-type {\n",
       "        vertical-align: middle;\n",
       "    }\n",
       "\n",
       "    .dataframe tbody tr th {\n",
       "        vertical-align: top;\n",
       "    }\n",
       "\n",
       "    .dataframe thead th {\n",
       "        text-align: right;\n",
       "    }\n",
       "</style>\n",
       "<table border=\"1\" class=\"dataframe\">\n",
       "  <thead>\n",
       "    <tr style=\"text-align: right;\">\n",
       "      <th></th>\n",
       "      <th>quantity</th>\n",
       "      <th>year</th>\n",
       "      <th>transaction_amount</th>\n",
       "    </tr>\n",
       "    <tr>\n",
       "      <th>year</th>\n",
       "      <th></th>\n",
       "      <th></th>\n",
       "      <th></th>\n",
       "    </tr>\n",
       "  </thead>\n",
       "  <tbody>\n",
       "    <tr>\n",
       "      <th>2022</th>\n",
       "      <td>5954</td>\n",
       "      <td>746</td>\n",
       "      <td>195575</td>\n",
       "    </tr>\n",
       "    <tr>\n",
       "      <th>2023</th>\n",
       "      <td>2208</td>\n",
       "      <td>254</td>\n",
       "      <td>79655</td>\n",
       "    </tr>\n",
       "  </tbody>\n",
       "</table>\n",
       "</div>"
      ],
      "text/plain": [
       "      quantity  year  transaction_amount\n",
       "year                                    \n",
       "2022      5954   746              195575\n",
       "2023      2208   254               79655"
      ]
     },
     "execution_count": 17,
     "metadata": {},
     "output_type": "execute_result"
    }
   ],
   "source": [
    "# Items, orders, and revenue by year\n",
    "df_orders_year = df.groupby(\"year\")\n",
    "order_year_agg = df_orders_year.agg(\n",
    "    {\n",
    "        'quantity': 'sum',\n",
    "        'year': 'count',\n",
    "        'transaction_amount': 'sum'\n",
    "    }\n",
    ")\n",
    "\n",
    "order_year_agg"
   ]
  },
  {
   "cell_type": "code",
   "execution_count": 18,
   "id": "5f68f4f3",
   "metadata": {
    "execution": {
     "iopub.execute_input": "2025-09-16T12:49:28.855562Z",
     "iopub.status.busy": "2025-09-16T12:49:28.855259Z",
     "iopub.status.idle": "2025-09-16T12:49:29.336927Z",
     "shell.execute_reply": "2025-09-16T12:49:29.336015Z"
    },
    "jupyter": {
     "source_hidden": true
    },
    "papermill": {
     "duration": 0.493801,
     "end_time": "2025-09-16T12:49:29.338332",
     "exception": false,
     "start_time": "2025-09-16T12:49:28.844531",
     "status": "completed"
    },
    "tags": []
   },
   "outputs": [
    {
     "data": {
      "image/png": "[encoded data removed]",
      "text/plain": [
       "<Figure size 900x800 with 4 Axes>"
      ]
     },
     "metadata": {},
     "output_type": "display_data"
    }
   ],
   "source": [
    "# Graph of items, orders, and revenue by year\n",
    "order_year_agg.plot(\n",
    "    title=[\"Items\", \"Orders\", \"Revenue\"],\n",
    "    kind=\"bar\",\n",
    "    subplots=True,\n",
    "    ylabel=\"\",\n",
    "    xlabel=\"\",\n",
    "    legend=False,\n",
    "    layout=(2, 2),\n",
    "    figsize=(9, 8),\n",
    "    sharex=False,\n",
    "    rot=0,\n",
    ");"
   ]
  },
  {
   "cell_type": "markdown",
   "id": "28c10675",
   "metadata": {
    "papermill": {
     "duration": 0.010074,
     "end_time": "2025-09-16T12:49:29.362927",
     "exception": false,
     "start_time": "2025-09-16T12:49:29.352853",
     "status": "completed"
    },
    "tags": []
   },
   "source": [
    "It is concluded that the year **2022** had the best performance. However, this is due to the greater amount of data available for that year."
   ]
  },
  {
   "cell_type": "markdown",
   "id": "643005ce",
   "metadata": {
    "papermill": {
     "duration": 0.010048,
     "end_time": "2025-09-16T12:49:29.383377",
     "exception": false,
     "start_time": "2025-09-16T12:49:29.373329",
     "status": "completed"
    },
    "tags": []
   },
   "source": [
    "### Monthly Performance between 2022 and 2023"
   ]
  },
  {
   "cell_type": "markdown",
   "id": "88c5ea03",
   "metadata": {
    "papermill": {
     "duration": 0.009863,
     "end_time": "2025-09-16T12:49:29.403403",
     "exception": false,
     "start_time": "2025-09-16T12:49:29.393540",
     "status": "completed"
    },
    "tags": []
   },
   "source": [
    "Graph of monthly performance by quantity and revenue."
   ]
  },
  {
   "cell_type": "code",
   "execution_count": 19,
   "id": "90fd4001",
   "metadata": {
    "execution": {
     "iopub.execute_input": "2025-09-16T12:49:29.425074Z",
     "iopub.status.busy": "2025-09-16T12:49:29.424786Z",
     "iopub.status.idle": "2025-09-16T12:49:29.878546Z",
     "shell.execute_reply": "2025-09-16T12:49:29.877571Z"
    },
    "jupyter": {
     "source_hidden": true
    },
    "papermill": {
     "duration": 0.467013,
     "end_time": "2025-09-16T12:49:29.880511",
     "exception": false,
     "start_time": "2025-09-16T12:49:29.413498",
     "status": "completed"
    },
    "tags": []
   },
   "outputs": [
    {
     "data": {
      "image/png": "[encoded data removed]",
      "text/plain": [
       "<Figure size 900x1000 with 2 Axes>"
      ]
     },
     "metadata": {},
     "output_type": "display_data"
    }
   ],
   "source": [
    "# Graph of monthly performance by item and revenue\n",
    "month_group = df[[\"date\", \"quantity\", \"transaction_amount\"]].set_index(\"date\")\n",
    "month_sample = month_group.resample(\"ME\").sum()\n",
    "\n",
    "month_sample.plot(\n",
    "    title=[\"Items sold per month\", \"Revenue per month\"],\n",
    "    kind=\"area\",\n",
    "    subplots=True,\n",
    "    ylabel=\"\",\n",
    "    xlabel=\"\",\n",
    "    legend=False,\n",
    "    figsize=(9, 10),\n",
    "    sharex=False,\n",
    ");"
   ]
  },
  {
   "cell_type": "markdown",
   "id": "500a4914",
   "metadata": {
    "papermill": {
     "duration": 0.010836,
     "end_time": "2025-09-16T12:49:29.902787",
     "exception": false,
     "start_time": "2025-09-16T12:49:29.891951",
     "status": "completed"
    },
    "tags": []
   },
   "source": [
    "It is concluded that **May 2023** was the month with the highest number of items sold. While **January 2022** was the month with the highest revenue."
   ]
  },
  {
   "cell_type": "markdown",
   "id": "adff0755",
   "metadata": {
    "papermill": {
     "duration": 0.010844,
     "end_time": "2025-09-16T12:49:29.924714",
     "exception": false,
     "start_time": "2025-09-16T12:49:29.913870",
     "status": "completed"
    },
    "tags": []
   },
   "source": [
    "### Weekly Performance"
   ]
  },
  {
   "cell_type": "markdown",
   "id": "e4ab9b05",
   "metadata": {
    "papermill": {
     "duration": 0.010622,
     "end_time": "2025-09-16T12:49:29.946237",
     "exception": false,
     "start_time": "2025-09-16T12:49:29.935615",
     "status": "completed"
    },
    "tags": []
   },
   "source": [
    "Table of orders and revenue by Month"
   ]
  },
  {
   "cell_type": "code",
   "execution_count": 20,
   "id": "31d70455",
   "metadata": {
    "execution": {
     "iopub.execute_input": "2025-09-16T12:49:29.969520Z",
     "iopub.status.busy": "2025-09-16T12:49:29.969196Z",
     "iopub.status.idle": "2025-09-16T12:49:29.982227Z",
     "shell.execute_reply": "2025-09-16T12:49:29.981353Z"
    },
    "jupyter": {
     "source_hidden": true
    },
    "papermill": {
     "duration": 0.026451,
     "end_time": "2025-09-16T12:49:29.983695",
     "exception": false,
     "start_time": "2025-09-16T12:49:29.957244",
     "status": "completed"
    },
    "tags": []
   },
   "outputs": [
    {
     "data": {
      "text/html": [
       "<div>\n",
       "<style scoped>\n",
       "    .dataframe tbody tr th:only-of-type {\n",
       "        vertical-align: middle;\n",
       "    }\n",
       "\n",
       "    .dataframe tbody tr th {\n",
       "        vertical-align: top;\n",
       "    }\n",
       "\n",
       "    .dataframe thead th {\n",
       "        text-align: right;\n",
       "    }\n",
       "</style>\n",
       "<table border=\"1\" class=\"dataframe\">\n",
       "  <thead>\n",
       "    <tr style=\"text-align: right;\">\n",
       "      <th></th>\n",
       "      <th>order_id</th>\n",
       "      <th>transaction_amount</th>\n",
       "    </tr>\n",
       "    <tr>\n",
       "      <th>weekday</th>\n",
       "      <th></th>\n",
       "      <th></th>\n",
       "    </tr>\n",
       "  </thead>\n",
       "  <tbody>\n",
       "    <tr>\n",
       "      <th>Sunday</th>\n",
       "      <td>158</td>\n",
       "      <td>43970</td>\n",
       "    </tr>\n",
       "    <tr>\n",
       "      <th>Monday</th>\n",
       "      <td>141</td>\n",
       "      <td>40930</td>\n",
       "    </tr>\n",
       "    <tr>\n",
       "      <th>Tuesday</th>\n",
       "      <td>122</td>\n",
       "      <td>36085</td>\n",
       "    </tr>\n",
       "    <tr>\n",
       "      <th>Wednesday</th>\n",
       "      <td>159</td>\n",
       "      <td>40380</td>\n",
       "    </tr>\n",
       "    <tr>\n",
       "      <th>Thursday</th>\n",
       "      <td>136</td>\n",
       "      <td>39905</td>\n",
       "    </tr>\n",
       "    <tr>\n",
       "      <th>Friday</th>\n",
       "      <td>134</td>\n",
       "      <td>36050</td>\n",
       "    </tr>\n",
       "    <tr>\n",
       "      <th>Saturday</th>\n",
       "      <td>150</td>\n",
       "      <td>37910</td>\n",
       "    </tr>\n",
       "  </tbody>\n",
       "</table>\n",
       "</div>"
      ],
      "text/plain": [
       "           order_id  transaction_amount\n",
       "weekday                                \n",
       "Sunday          158               43970\n",
       "Monday          141               40930\n",
       "Tuesday         122               36085\n",
       "Wednesday       159               40380\n",
       "Thursday        136               39905\n",
       "Friday          134               36050\n",
       "Saturday        150               37910"
      ]
     },
     "execution_count": 20,
     "metadata": {},
     "output_type": "execute_result"
    }
   ],
   "source": [
    "# Orders and revenue by weekday\n",
    "df_weekday = df.groupby(\"weekday\")[[\"order_id\", \"transaction_amount\"]]\n",
    "weekday_agg = df_weekday.agg(\n",
    "    {\n",
    "        \"order_id\": \"count\",\n",
    "        \"transaction_amount\": \"sum\"\n",
    "    }\n",
    ").reindex(['Sunday', 'Monday', 'Tuesday', 'Wednesday', 'Thursday', 'Friday', 'Saturday'])\n",
    "\n",
    "weekday_agg"
   ]
  },
  {
   "cell_type": "markdown",
   "id": "5bfb6edc",
   "metadata": {
    "papermill": {
     "duration": 0.010567,
     "end_time": "2025-09-16T12:49:30.005326",
     "exception": false,
     "start_time": "2025-09-16T12:49:29.994759",
     "status": "completed"
    },
    "tags": []
   },
   "source": [
    "Graph of orders and revenue by weekday."
   ]
  },
  {
   "cell_type": "code",
   "execution_count": 21,
   "id": "7436c6a9",
   "metadata": {
    "execution": {
     "iopub.execute_input": "2025-09-16T12:49:30.029524Z",
     "iopub.status.busy": "2025-09-16T12:49:30.028601Z",
     "iopub.status.idle": "2025-09-16T12:49:30.373168Z",
     "shell.execute_reply": "2025-09-16T12:49:30.372204Z"
    },
    "jupyter": {
     "source_hidden": true
    },
    "papermill": {
     "duration": 0.358093,
     "end_time": "2025-09-16T12:49:30.374634",
     "exception": false,
     "start_time": "2025-09-16T12:49:30.016541",
     "status": "completed"
    },
    "tags": []
   },
   "outputs": [
    {
     "data": {
      "image/png": "[encoded data removed]",
      "text/plain": [
       "<Figure size 900x1000 with 2 Axes>"
      ]
     },
     "metadata": {},
     "output_type": "display_data"
    }
   ],
   "source": [
    "# Quantity and revenue by weekday\n",
    "weekday_agg.reset_index().sort_index(ascending=False).plot(\n",
    "    title=[\"Orders by weekday\", \"Revenue by weekday\"],\n",
    "    x=\"weekday\",\n",
    "    xlabel=\"\",\n",
    "    ylabel=\"\",\n",
    "    kind=\"barh\",\n",
    "    subplots=True,\n",
    "    sharex=False,\n",
    "    legend=False,\n",
    "    figsize=(9, 10)\n",
    ");"
   ]
  },
  {
   "cell_type": "markdown",
   "id": "5b394640",
   "metadata": {
    "papermill": {
     "duration": 0.013162,
     "end_time": "2025-09-16T12:49:30.400083",
     "exception": false,
     "start_time": "2025-09-16T12:49:30.386921",
     "status": "completed"
    },
    "tags": []
   },
   "source": [
    "It is concluded that **Wednesday** is the day with the highest demand, while **Sunday** is the day with the highest revenue."
   ]
  }
 ],
 "metadata": {
  "colab": {
   "provenance": []
  },
  "kaggle": {
   "accelerator": "none",
   "dataSources": [
    {
     "datasetId": 3953791,
     "sourceId": 6902974,
     "sourceType": "datasetVersion"
    }
   ],
   "dockerImageVersionId": 31089,
   "isGpuEnabled": false,
   "isInternetEnabled": true,
   "language": "python",
   "sourceType": "notebook"
  },
  "kernelspec": {
   "display_name": "Python 3",
   "language": "python",
   "name": "python3"
  },
  "language_info": {
   "codemirror_mode": {
    "name": "ipython",
    "version": 3
   },
   "file_extension": ".py",
   "mimetype": "text/x-python",
   "name": "python",
   "nbconvert_exporter": "python",
   "pygments_lexer": "ipython3",
   "version": "3.11.13"
  },
  "papermill": {
   "default_parameters": {},
   "duration": 10.909138,
   "end_time": "2025-09-16T12:49:30.931206",
   "environment_variables": {},
   "exception": null,
   "input_path": "__notebook__.ipynb",
   "output_path": "__notebook__.ipynb",
   "parameters": {},
   "start_time": "2025-09-16T12:49:20.022068",
   "version": "2.6.0"
  }
 },
 "nbformat": 4,
 "nbformat_minor": 5
}
