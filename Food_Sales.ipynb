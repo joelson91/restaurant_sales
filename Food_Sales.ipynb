{
 "cells": [
  {
   "cell_type": "markdown",
   "metadata": {
    "id": "IWkU9dUnH_US"
   },
   "source": [
    "# Análise\n",
    "\n"
   ]
  },
  {
   "cell_type": "markdown",
   "metadata": {
    "id": "VT7dBqd3KrZN"
   },
   "source": [
    "## Introdução\n",
    "\n"
   ]
  },
  {
   "cell_type": "markdown",
   "metadata": {
    "id": "LWMdhW75Ks9S"
   },
   "source": [
    "### Objetivos da Análise\n",
    "\n",
    "- Visualisar variáveis com maior impacto na demanda e na receita\n",
    "- Visualizar dias e horários com maior demanda\n",
    "\n"
   ]
  },
  {
   "cell_type": "markdown",
   "metadata": {
    "id": "vaHQsE2BKufX"
   },
   "source": [
    "### Sobre o Dataset\n",
    "\n",
    "Este dataset contém dados de 1000 pedidos de um restaurante."
   ]
  },
  {
   "cell_type": "markdown",
   "metadata": {
    "id": "Cg3aWNaHIN34"
   },
   "source": [
    "## Preparação dos dados"
   ]
  },
  {
   "cell_type": "markdown",
   "metadata": {
    "id": "wbEKMn5RogNR"
   },
   "source": [
    "### Carregamento de dados"
   ]
  },
  {
   "cell_type": "code",
   "execution_count": null,
   "metadata": {
    "id": "BDlcnEuPmCc_"
   },
   "outputs": [],
   "source": [
    "# Importando a biblioteca Pandas\n",
    "import pandas as pd"
   ]
  },
  {
   "cell_type": "code",
   "execution_count": null,
   "metadata": {
    "id": "0J7WZ3tNmPD8"
   },
   "outputs": [],
   "source": [
    "# Carregando dataset\n",
    "df = pd.read_csv('food_sales.csv')"
   ]
  },
  {
   "cell_type": "code",
   "execution_count": null,
   "metadata": {
    "colab": {
     "base_uri": "https://localhost:8080/",
     "height": 423
    },
    "id": "kII5fTcFogOT",
    "outputId": "ecd96676-6e76-4f24-8f37-5686563ee554"
   },
   "outputs": [],
   "source": [
    "# Exibição prévia dos dados\n",
    "df.head()"
   ]
  },
  {
   "cell_type": "markdown",
   "metadata": {
    "id": "I4txuYamPe0m"
   },
   "source": [
    "### Limpeza de dados"
   ]
  },
  {
   "cell_type": "code",
   "execution_count": null,
   "metadata": {
    "colab": {
     "base_uri": "https://localhost:8080/"
    },
    "id": "0Po38TRjooR5",
    "outputId": "3a2e8167-aff2-4fc4-9617-f56f20724995"
   },
   "outputs": [],
   "source": [
    "# Informações sobre o dataset\n",
    "df.info()"
   ]
  },
  {
   "cell_type": "markdown",
   "metadata": {},
   "source": [
    "**Observações iniciais**:\n",
    "- Há valores nulos na coluna `transaction_type`, representando mais de 10% dos dados.\n",
    "- As colunas categóricas estão no formato `object`.\n",
    "- A coluna `date` possui dados inconsistentes em relação ao formato de data.\n",
    "- É importante para a análise extrair ano, mês e dia da semana da coluna `date`."
   ]
  },
  {
   "cell_type": "code",
   "execution_count": null,
   "metadata": {
    "id": "MIkOYIG9oqAI"
   },
   "outputs": [],
   "source": [
    "# Substituindo valores nulos pela categoria Unknow\n",
    "df['transaction_type'] = df['transaction_type'].fillna('Unknow')"
   ]
  },
  {
   "cell_type": "code",
   "execution_count": null,
   "metadata": {
    "id": "sEzHqm18laS3"
   },
   "outputs": [],
   "source": [
    "# Ajustando variáveis categóricas\n",
    "category_columns = ['item_name', 'item_type', 'transaction_type', 'received_by', 'time_of_sale']\n",
    "df[category_columns] = df[category_columns].astype('category')"
   ]
  },
  {
   "cell_type": "code",
   "execution_count": null,
   "metadata": {
    "id": "_LO4ck0emVV6"
   },
   "outputs": [],
   "source": [
    "# Ajustando a variável date para datetime\n",
    "df['date'] = df['date'].str.replace('/', '-', regex=False)\n",
    "df['date'] = pd.to_datetime(df['date'], format='%m-%d-%Y')"
   ]
  },
  {
   "cell_type": "code",
   "execution_count": null,
   "metadata": {},
   "outputs": [],
   "source": [
    "# Extraindo ano, mês e dia da semana de date\n",
    "df['year'] = df['date'].dt.year\n",
    "df['month'] = df['date'].dt.month_name()\n",
    "df['weekday'] = df['date'].dt.day_name()"
   ]
  },
  {
   "cell_type": "code",
   "execution_count": null,
   "metadata": {},
   "outputs": [],
   "source": [
    "# resultado final\n",
    "df.head()"
   ]
  },
  {
   "cell_type": "markdown",
   "metadata": {},
   "source": [
    "## Análise de produtos"
   ]
  },
  {
   "cell_type": "markdown",
   "metadata": {},
   "source": [
    "### Desempenho por categoria"
   ]
  },
  {
   "cell_type": "markdown",
   "metadata": {},
   "source": [
    "Resumo da quantidade vendida e da receita por categoria."
   ]
  },
  {
   "cell_type": "code",
   "execution_count": null,
   "metadata": {
    "jupyter": {
     "source_hidden": true
    }
   },
   "outputs": [],
   "source": [
    "# Quantidade e receita por categoria\n",
    "df.groupby('item_type', observed=True)[['quantity', 'transaction_amount']].sum()"
   ]
  },
  {
   "cell_type": "code",
   "execution_count": null,
   "metadata": {
    "jupyter": {
     "source_hidden": true
    }
   },
   "outputs": [],
   "source": [
    "teste = df.groupby('item_type', observed=True)[['quantity', 'transaction_amount']].sum()\n",
    "teste.plot(\n",
    "    title=['Quantidade', 'Receita'],\n",
    "    kind='pie',\n",
    "    subplots=True,\n",
    "    autopct='%1.1f%%',\n",
    "    startangle=90,\n",
    "    ylabel='',\n",
    "    legend=False,\n",
    "    #layout=(1,2)\n",
    ");"
   ]
  },
  {
   "cell_type": "markdown",
   "metadata": {},
   "source": [
    "Conclui-se que **Fastfood** é a categoria com maior impacto na quantidade e na receita."
   ]
  },
  {
   "cell_type": "markdown",
   "metadata": {},
   "source": [
    "### Desempenho por item e receita"
   ]
  },
  {
   "cell_type": "markdown",
   "metadata": {},
   "source": [
    "Resumo da quantidade vendida e da receita por item."
   ]
  },
  {
   "cell_type": "code",
   "execution_count": null,
   "metadata": {
    "jupyter": {
     "source_hidden": true
    }
   },
   "outputs": [],
   "source": [
    "# Quantidade e receita por item\n",
    "df_item_amount = df.groupby('item_name', observed=True)[['quantity', 'transaction_amount']].sum()\n",
    "df_item_amount"
   ]
  },
  {
   "cell_type": "code",
   "execution_count": null,
   "metadata": {},
   "outputs": [],
   "source": [
    "df_item_amount.sort_values('item_name', ascending=False).plot(\n",
    "    y=['quantity', 'transaction_amount'],\n",
    "    title=['Quantidade', 'Receita'],\n",
    "    kind='barh',\n",
    "    subplots=True,\n",
    "    ylabel='',\n",
    "    legend=False,\n",
    "    sharey=False,\n",
    "    sharex=False,\n",
    "    figsize=(6,7.4)\n",
    ");"
   ]
  },
  {
   "cell_type": "markdown",
   "metadata": {},
   "source": [
    "Conclui-se que **Cold coffee** tem maior impacto na quantidade vendida, enquanto **Sandwich** tem maior impacno na receita."
   ]
  },
  {
   "cell_type": "markdown",
   "metadata": {},
   "source": [
    "## Análise de vendas"
   ]
  },
  {
   "cell_type": "markdown",
   "metadata": {},
   "source": [
    "### Desempenho por vendedor"
   ]
  },
  {
   "cell_type": "code",
   "execution_count": null,
   "metadata": {
    "jupyter": {
     "source_hidden": true
    }
   },
   "outputs": [],
   "source": [
    "order_received = df.groupby('received_by', observed=True)\n",
    "graph = order_received.agg(\n",
    "    {\n",
    "        'received_by': 'count',\n",
    "        'transaction_amount': 'sum'\n",
    "    }\n",
    ")"
   ]
  },
  {
   "cell_type": "code",
   "execution_count": null,
   "metadata": {},
   "outputs": [],
   "source": [
    "graph"
   ]
  },
  {
   "cell_type": "code",
   "execution_count": null,
   "metadata": {},
   "outputs": [],
   "source": [
    "graph.plot(\n",
    "    title=['Pedidos', 'Receita'],\n",
    "    kind='pie',\n",
    "    subplots=True,\n",
    "    autopct='%1.1f%%',\n",
    "    startangle=90,\n",
    "    ylabel='',\n",
    "    legend=False,\n",
    ");"
   ]
  },
  {
   "cell_type": "markdown",
   "metadata": {},
   "source": [
    "## Análise temporal"
   ]
  },
  {
   "cell_type": "markdown",
   "metadata": {},
   "source": [
    "### Desempenho anual"
   ]
  },
  {
   "cell_type": "code",
   "execution_count": null,
   "metadata": {
    "jupyter": {
     "source_hidden": true
    }
   },
   "outputs": [],
   "source": [
    "desempenho = df.groupby('year', observed=True)\n",
    "\n",
    "desempenho_agg = desempenho.agg(\n",
    "    {\n",
    "        'quantity': 'sum',\n",
    "        'year': 'count',\n",
    "        'transaction_amount': 'sum'\n",
    "    }\n",
    ")"
   ]
  },
  {
   "cell_type": "code",
   "execution_count": null,
   "metadata": {},
   "outputs": [],
   "source": [
    "desempenho_agg"
   ]
  },
  {
   "cell_type": "code",
   "execution_count": null,
   "metadata": {
    "jupyter": {
     "source_hidden": true
    }
   },
   "outputs": [],
   "source": [
    "desempenho_agg.plot(\n",
    "    title=['Quantidade', 'Pedidos', 'Receita'],\n",
    "    kind='bar',\n",
    "    subplots=True,\n",
    "    ylabel='',\n",
    "    xlabel='',\n",
    "    legend=False,\n",
    "    layout=(2, 2),\n",
    "    figsize=(9,8),\n",
    "    sharex=False,\n",
    "    rot=0,\n",
    ");"
   ]
  },
  {
   "cell_type": "markdown",
   "metadata": {},
   "source": [
    "### Desempenho mensal"
   ]
  },
  {
   "cell_type": "markdown",
   "metadata": {},
   "source": []
  },
  {
   "cell_type": "code",
   "execution_count": null,
   "metadata": {},
   "outputs": [],
   "source": [
    "df_22 = df[df['year'] == 2022]\n",
    "df_23 = df[df['year'] == 2023]"
   ]
  },
  {
   "cell_type": "markdown",
   "metadata": {},
   "source": [
    "#### Itens por mês"
   ]
  },
  {
   "cell_type": "markdown",
   "metadata": {},
   "source": [
    "2022"
   ]
  },
  {
   "cell_type": "code",
   "execution_count": null,
   "metadata": {},
   "outputs": [],
   "source": [
    "# Itens 2022\n",
    "items_month = df_22.groupby('month', observed=True)['quantity'].sum()\n",
    "items_month.plot(kind='barh');"
   ]
  },
  {
   "cell_type": "markdown",
   "metadata": {},
   "source": [
    "2023"
   ]
  },
  {
   "cell_type": "code",
   "execution_count": null,
   "metadata": {},
   "outputs": [],
   "source": [
    "# Itens 2023\n",
    "items_month = df_23.groupby('month', observed=True)['quantity'].sum()\n",
    "items_month.plot(kind='barh');"
   ]
  }
 ],
 "metadata": {
  "colab": {
   "provenance": []
  },
  "kernelspec": {
   "display_name": "Python 3 (ipykernel)",
   "language": "python",
   "name": "python3"
  },
  "language_info": {
   "codemirror_mode": {
    "name": "ipython",
    "version": 3
   },
   "file_extension": ".py",
   "mimetype": "text/x-python",
   "name": "python",
   "nbconvert_exporter": "python",
   "pygments_lexer": "ipython3",
   "version": "3.12.3"
  }
 },
 "nbformat": 4,
 "nbformat_minor": 4
}
